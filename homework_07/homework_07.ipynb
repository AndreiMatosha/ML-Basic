{
  "cells": [
    {
      "cell_type": "markdown",
      "metadata": {
        "id": "view-in-github",
        "colab_type": "text"
      },
      "source": [
        "<a href=\"https://colab.research.google.com/github/AndreiMatosha/ML-Basic/blob/main/homework_07/homework_07.ipynb\" target=\"_parent\"><img src=\"https://colab.research.google.com/assets/colab-badge.svg\" alt=\"Open In Colab\"/></a>"
      ]
    },
    {
      "cell_type": "markdown",
      "metadata": {
        "id": "ZyK1Wil4_tAU"
      },
      "source": [
        "# Я художник, я так вижу, визуализация данных в питоне"
      ]
    },
    {
      "cell_type": "markdown",
      "metadata": {
        "id": "onEAkSzC_tAV"
      },
      "source": [
        "# I. Numpy"
      ]
    },
    {
      "cell_type": "markdown",
      "metadata": {
        "id": "gEIrdiZs_tAV"
      },
      "source": [
        "### Импортируйте NumPy"
      ]
    },
    {
      "cell_type": "code",
      "execution_count": 1,
      "metadata": {
        "id": "cEhHfFNZ_tAV"
      },
      "outputs": [],
      "source": [
        "import numpy as np"
      ]
    },
    {
      "cell_type": "markdown",
      "metadata": {
        "id": "ZaPf8no__tAV"
      },
      "source": [
        "### Создайте одномерный массив размера 10, заполненный нулями и пятым элемент равным 1. Трансформируйте в двумерный массив."
      ]
    },
    {
      "cell_type": "code",
      "execution_count": 3,
      "metadata": {
        "id": "uFn89Enf_tAW",
        "outputId": "a35d4068-1348-4c35-f3da-d27234c747d5",
        "colab": {
          "base_uri": "https://localhost:8080/"
        }
      },
      "outputs": [
        {
          "output_type": "execute_result",
          "data": {
            "text/plain": [
              "array([[0., 0., 0., 0., 1.],\n",
              "       [0., 0., 0., 0., 0.]])"
            ]
          },
          "metadata": {},
          "execution_count": 3
        }
      ],
      "source": [
        "arr = np.zeros(10)\n",
        "arr[4] = 1\n",
        "arr_2d = arr.reshape(2, 5)\n",
        "arr_2d"
      ]
    },
    {
      "cell_type": "markdown",
      "metadata": {
        "id": "0KPe207t_tAW"
      },
      "source": [
        "### Создайте одномерный массив со значениями от 10 до 49 и разверните его (первый элемент становится последним). Найдите в нем все четные элементы."
      ]
    },
    {
      "cell_type": "code",
      "execution_count": 8,
      "metadata": {
        "id": "T9Dqk4De_tAW",
        "outputId": "9fb58f72-10f6-411d-d406-cb95367c4da6",
        "colab": {
          "base_uri": "https://localhost:8080/"
        }
      },
      "outputs": [
        {
          "output_type": "stream",
          "name": "stdout",
          "text": [
            "Array:  [21 21 16 20 16 48 14 30 12 31 37 37 24 35 20 13 19 45 38 48]\n",
            "Reversed Array [48 38 45 19 13 20 35 24 37 37 31 12 30 14 48 16 20 16 21 21]\n",
            "Even Elements of Array [48 38 20 24 12 30 14 48 16 20 16]\n"
          ]
        }
      ],
      "source": [
        "arr = np.random.randint(low=10, high=50, size=20, dtype=int)\n",
        "reversed_arr = arr[::-1]\n",
        "even_arr = reversed_arr[reversed_arr%2 == 0]\n",
        "print('Array: ', arr)\n",
        "print('Reversed Array', reversed_arr)\n",
        "print('Even Elements of Array', even_arr)"
      ]
    },
    {
      "cell_type": "markdown",
      "metadata": {
        "id": "BzJhiFRI_tAW"
      },
      "source": [
        "### Создайте двумерный массив 3x3 со значениями от 0 до 8"
      ]
    },
    {
      "cell_type": "code",
      "execution_count": 9,
      "metadata": {
        "id": "6QIEHX3l_tAW",
        "outputId": "a29e3272-dd13-4290-b0a0-c24d21515845",
        "colab": {
          "base_uri": "https://localhost:8080/"
        }
      },
      "outputs": [
        {
          "output_type": "execute_result",
          "data": {
            "text/plain": [
              "array([[0, 1, 2],\n",
              "       [3, 4, 5],\n",
              "       [6, 7, 8]])"
            ]
          },
          "metadata": {},
          "execution_count": 9
        }
      ],
      "source": [
        "np.arange(9).reshape(3, 3)"
      ]
    },
    {
      "cell_type": "markdown",
      "metadata": {
        "id": "VB-Dz48-_tAW"
      },
      "source": [
        "### Создайте массив 4x3x2 со случайными значениями. Найти его минимум и максимум."
      ]
    },
    {
      "cell_type": "code",
      "execution_count": 10,
      "metadata": {
        "id": "3U2iTJ6__tAW",
        "outputId": "f4aca986-7521-4576-d2da-e0005fd1c705",
        "colab": {
          "base_uri": "https://localhost:8080/"
        }
      },
      "outputs": [
        {
          "output_type": "stream",
          "name": "stdout",
          "text": [
            "Min value:  0.07123148564924264\n",
            "Max value:  0.9857377967927793\n"
          ]
        }
      ],
      "source": [
        "arr = np.random.rand(4, 3, 2)\n",
        "\n",
        "min_value = np.min(arr)\n",
        "max_value = np.max(arr)\n",
        "\n",
        "print(\"Min value: \", min_value)\n",
        "print(\"Max value: \", max_value)"
      ]
    },
    {
      "cell_type": "markdown",
      "metadata": {
        "id": "3CgCczxk_tAW"
      },
      "source": [
        "### Создайте два двумерных массива размерами 6x4 и 4x3 и произведите их матричное умножение."
      ]
    },
    {
      "cell_type": "code",
      "execution_count": 13,
      "metadata": {
        "id": "MyxLsqsi_tAW",
        "outputId": "155e2207-ce0a-4deb-ebf6-60edba788ea2",
        "colab": {
          "base_uri": "https://localhost:8080/"
        }
      },
      "outputs": [
        {
          "output_type": "execute_result",
          "data": {
            "text/plain": [
              "array([[1.76958803, 1.40213357, 1.21209844],\n",
              "       [0.67169098, 0.56912466, 0.3518356 ],\n",
              "       [1.78921875, 1.55002329, 1.21487043],\n",
              "       [1.49602533, 1.27658005, 0.96369692],\n",
              "       [1.91107465, 1.6973834 , 1.25670084],\n",
              "       [1.90016978, 1.66793484, 1.35996274]])"
            ]
          },
          "metadata": {},
          "execution_count": 13
        }
      ],
      "source": [
        "arr_1 = np.random.rand(6, 4)\n",
        "arr_2 = np.random.rand(4, 3)\n",
        "arr_mult = arr_1 @ arr_2\n",
        "arr_mult"
      ]
    },
    {
      "cell_type": "markdown",
      "metadata": {
        "id": "TeQsCmRc_tAW"
      },
      "source": [
        "### Создайте случайный двумерный массив 7x7, найти у него среднее и стандартное оклонение. Нормализуйте этот массив."
      ]
    },
    {
      "cell_type": "code",
      "execution_count": 14,
      "metadata": {
        "id": "8dpMVl-D_tAW",
        "outputId": "e47647e1-aa6b-4c15-a375-c459118a3497",
        "colab": {
          "base_uri": "https://localhost:8080/"
        }
      },
      "outputs": [
        {
          "output_type": "stream",
          "name": "stdout",
          "text": [
            "[[0.82112848 0.62607215 0.34564633 0.54410509 0.60992671 0.78540608\n",
            "  0.60115863]\n",
            " [0.6597685  0.18039208 0.03070408 0.92679632 0.45878362 0.39274986\n",
            "  0.22953008]\n",
            " [0.49368138 0.33322103 0.5971904  0.85229822 0.12570949 0.60699137\n",
            "  0.29909096]\n",
            " [0.30043973 0.56397515 0.5420623  0.36381162 0.79725755 0.31103811\n",
            "  0.17076798]\n",
            " [0.21272541 0.00105257 0.67836667 0.81182396 0.59347612 0.23104087\n",
            "  0.12483514]\n",
            " [0.12934483 0.91009489 0.8611847  0.57845516 0.64605804 0.13800887\n",
            "  0.20728945]\n",
            " [0.00689573 0.46512272 0.29038059 0.19083494 0.93436447 0.87193425\n",
            "  0.210866  ]]\n",
            "[[ 1.32239436  0.60309472 -0.43101778  0.30082881  0.54355597  1.19066261\n",
            "   0.51122236]\n",
            " [ 0.72735509 -1.04041774 -1.59241483  1.71206042 -0.01380697 -0.2573164\n",
            "  -0.85921398]\n",
            " [ 0.11488379 -0.47683796  0.4965889   1.43733747 -1.24206804  0.53273147\n",
            "  -0.60269773]\n",
            " [-0.59772394  0.37410267  0.29329574 -0.36403055  1.23436671 -0.55864081\n",
            "  -1.07590805]\n",
            " [-0.92118371 -1.70175921  0.79593863  1.28808252  0.48289194 -0.85364271\n",
            "  -1.24529232]\n",
            " [-1.22866218  1.65047139  1.47010768  0.42749989  0.67679568 -1.19671223\n",
            "  -0.94122965]\n",
            " [-1.6802117   0.00956944 -0.63481852 -1.00190814  1.73996914  1.5097483\n",
            "  -0.92804057]]\n"
          ]
        }
      ],
      "source": [
        "arr = np.random.rand(7, 7)\n",
        "print(arr)\n",
        "mean_value = np.mean(arr)\n",
        "std_value = np.std(arr)\n",
        "# Нормализуем массив\n",
        "normalized_arr = (arr - mean_value) / std_value\n",
        "print(normalized_arr)"
      ]
    },
    {
      "cell_type": "markdown",
      "metadata": {
        "id": "aOXQT4X1_tAW"
      },
      "source": [
        "# II. Pandas"
      ]
    },
    {
      "cell_type": "markdown",
      "metadata": {
        "id": "E2YlwR-v_tAW"
      },
      "source": [
        "### Импортируйте: pandas, matplotlib, seaborn"
      ]
    },
    {
      "cell_type": "code",
      "execution_count": null,
      "metadata": {
        "id": "v5paThEZ_tAW"
      },
      "outputs": [],
      "source": [
        "# ВАШ КОД ЗДЕСЬ"
      ]
    },
    {
      "cell_type": "markdown",
      "metadata": {
        "id": "o-LUNWiB_tAX"
      },
      "source": [
        "### Загрузите датасет Tips из набора датасетов seaborn"
      ]
    },
    {
      "cell_type": "code",
      "execution_count": null,
      "metadata": {
        "id": "_z6stb-K_tAX"
      },
      "outputs": [],
      "source": [
        "# ВАШ КОД ЗДЕСЬ"
      ]
    },
    {
      "cell_type": "markdown",
      "metadata": {
        "id": "koFPJ1q6_tAX"
      },
      "source": [
        "### Посмотрите на первые 5 строчек"
      ]
    },
    {
      "cell_type": "code",
      "execution_count": null,
      "metadata": {
        "id": "dO7qoNaw_tAX"
      },
      "outputs": [],
      "source": [
        "# ВАШ КОД ЗДЕСЬ"
      ]
    },
    {
      "cell_type": "markdown",
      "metadata": {
        "id": "4RT_lIPN_tAX"
      },
      "source": [
        "### Узнайте сколько всего строчек и колонок в данных"
      ]
    },
    {
      "cell_type": "code",
      "execution_count": null,
      "metadata": {
        "id": "vS-vTusW_tAX"
      },
      "outputs": [],
      "source": [
        "# ВАШ КОД ЗДЕСЬ"
      ]
    },
    {
      "cell_type": "markdown",
      "metadata": {
        "id": "IFBHL2Kv_tAX"
      },
      "source": [
        "### Проверьте есть ли пропуски в данных"
      ]
    },
    {
      "cell_type": "code",
      "execution_count": null,
      "metadata": {
        "id": "0MQbpgqg_tAX"
      },
      "outputs": [],
      "source": [
        "# ВАШ КОД ЗДЕСЬ"
      ]
    },
    {
      "cell_type": "markdown",
      "metadata": {
        "id": "L_Ue60iE_tAX"
      },
      "source": [
        "### Посмотрите на распределение числовых признаков"
      ]
    },
    {
      "cell_type": "code",
      "execution_count": null,
      "metadata": {
        "id": "FxKl3ajb_tAX"
      },
      "outputs": [],
      "source": [
        "# ВАШ КОД ЗДЕСЬ"
      ]
    },
    {
      "cell_type": "markdown",
      "metadata": {
        "id": "skZn8K50_tAX"
      },
      "source": [
        "### Найдите максимальное значение 'total_bill'"
      ]
    },
    {
      "cell_type": "code",
      "execution_count": null,
      "metadata": {
        "id": "m8PP9Cii_tAX"
      },
      "outputs": [],
      "source": [
        "# ВАШ КОД ЗДЕСЬ"
      ]
    },
    {
      "cell_type": "markdown",
      "metadata": {
        "id": "jYukNubZ_tAX"
      },
      "source": [
        "### Найдите количество курящих людей"
      ]
    },
    {
      "cell_type": "code",
      "execution_count": null,
      "metadata": {
        "id": "81NbNU02_tAX"
      },
      "outputs": [],
      "source": [
        "# ВАШ КОД ЗДЕСЬ"
      ]
    },
    {
      "cell_type": "markdown",
      "metadata": {
        "id": "o0m8tHxZ_tAX"
      },
      "source": [
        "### Узнайте какой средний 'total_bill' в зависимости от 'day'"
      ]
    },
    {
      "cell_type": "code",
      "execution_count": null,
      "metadata": {
        "id": "yll77yzf_tAX"
      },
      "outputs": [],
      "source": [
        "# ВАШ КОД ЗДЕСЬ"
      ]
    },
    {
      "cell_type": "markdown",
      "metadata": {
        "id": "-pnpT8xG_tAX"
      },
      "source": [
        "### Отберите строчки с 'total_bill' больше медианы и узнайте какой средний 'tip' в зависимости от 'sex'"
      ]
    },
    {
      "cell_type": "code",
      "execution_count": null,
      "metadata": {
        "id": "nsWxAXKj_tAX"
      },
      "outputs": [],
      "source": [
        "# ВАШ КОД ЗДЕСЬ"
      ]
    },
    {
      "cell_type": "markdown",
      "metadata": {
        "id": "1FOVm-4H_tAX"
      },
      "source": [
        "### Преобразуйте признак 'smoker' в бинарный (0-No, 1-Yes)"
      ]
    },
    {
      "cell_type": "code",
      "execution_count": null,
      "metadata": {
        "id": "fMBFGE8T_tAY"
      },
      "outputs": [],
      "source": [
        "# ВАШ КОД ЗДЕСЬ"
      ]
    },
    {
      "cell_type": "markdown",
      "metadata": {
        "id": "2FlarhdK_tAg"
      },
      "source": [
        "# III. Visualization"
      ]
    },
    {
      "cell_type": "markdown",
      "metadata": {
        "id": "tydrGpcn_tAg"
      },
      "source": [
        "### Постройте гистограмму распределения признака 'total_bill'"
      ]
    },
    {
      "cell_type": "code",
      "execution_count": null,
      "metadata": {
        "id": "d1KPP5yH_tAh"
      },
      "outputs": [],
      "source": [
        "# ВАШ КОД ЗДЕСЬ"
      ]
    },
    {
      "cell_type": "markdown",
      "metadata": {
        "id": "HiY20aXz_tAh"
      },
      "source": [
        "### Постройте scatterplot, представляющий взаимосвязь между признаками 'total_bill' и 'tip'"
      ]
    },
    {
      "cell_type": "code",
      "execution_count": null,
      "metadata": {
        "id": "i3xX0-eW_tAh"
      },
      "outputs": [],
      "source": [
        "# ВАШ КОД ЗДЕСЬ"
      ]
    },
    {
      "cell_type": "markdown",
      "metadata": {
        "id": "JgcpO6xA_tAh"
      },
      "source": [
        "### Постройте pairplot"
      ]
    },
    {
      "cell_type": "code",
      "execution_count": null,
      "metadata": {
        "id": "Re3wyBHj_tAh"
      },
      "outputs": [],
      "source": [
        "# ВАШ КОД ЗДЕСЬ"
      ]
    },
    {
      "cell_type": "markdown",
      "metadata": {
        "id": "SzNtvUFT_tAh"
      },
      "source": [
        "### Постройте график взаимосвязи между признаками 'total_bill' и 'day'"
      ]
    },
    {
      "cell_type": "code",
      "execution_count": null,
      "metadata": {
        "id": "6AzWmbkK_tAh"
      },
      "outputs": [],
      "source": [
        "# ВАШ КОД ЗДЕСЬ"
      ]
    },
    {
      "cell_type": "markdown",
      "metadata": {
        "id": "s6Cule63_tAh"
      },
      "source": [
        "### Постройте две гистограммы распределения признака 'tip' в зависимости от категорий 'time'"
      ]
    },
    {
      "cell_type": "code",
      "execution_count": null,
      "metadata": {
        "id": "SjHDyUot_tAh"
      },
      "outputs": [],
      "source": [
        "# ВАШ КОД ЗДЕСЬ"
      ]
    },
    {
      "cell_type": "markdown",
      "metadata": {
        "id": "w3ix1RCK_tAh"
      },
      "source": [
        "### Постройте два графика scatterplot, представляющих взаимосвязь между признаками 'total_bill' и 'tip' один для Male, другой для Female и раскрасьте точки в зависимоти от признака 'smoker'"
      ]
    },
    {
      "cell_type": "code",
      "execution_count": null,
      "metadata": {
        "id": "cMJPeVtV_tAh"
      },
      "outputs": [],
      "source": [
        "# ВАШ КОД ЗДЕСЬ"
      ]
    },
    {
      "cell_type": "markdown",
      "metadata": {
        "id": "fuUPuj38_tAh"
      },
      "source": [
        "## Сделайте выводы по анализу датасета и построенным графикам. По желанию можете продолжить анализ данных и также отразить это в выводах."
      ]
    },
    {
      "cell_type": "code",
      "execution_count": null,
      "metadata": {
        "id": "GdmSNFsD_tAh"
      },
      "outputs": [],
      "source": [
        "# ВАШ КОД ЗДЕСЬ"
      ]
    }
  ],
  "metadata": {
    "kernelspec": {
      "display_name": "Python 3",
      "language": "python",
      "name": "python3"
    },
    "language_info": {
      "codemirror_mode": {
        "name": "ipython",
        "version": 3
      },
      "file_extension": ".py",
      "mimetype": "text/x-python",
      "name": "python",
      "nbconvert_exporter": "python",
      "pygments_lexer": "ipython3",
      "version": "3.6.6"
    },
    "toc-autonumbering": false,
    "colab": {
      "provenance": [],
      "include_colab_link": true
    }
  },
  "nbformat": 4,
  "nbformat_minor": 0
}