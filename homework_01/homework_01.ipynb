{
  "cells": [
    {
      "cell_type": "markdown",
      "id": "8955a739",
      "metadata": {
        "id": "8955a739"
      },
      "source": [
        "# Домашнее задание: Базовые типы данных\n",
        "\n"
      ]
    },
    {
      "cell_type": "markdown",
      "id": "d4e67b86",
      "metadata": {
        "id": "d4e67b86"
      },
      "source": [
        "## Задание 1: Зеркальное отражение цифр\n",
        "\n",
        "Пользователь вводит пятизначное число. Программа должна зеркально отразить три центральные цифры. Первая и последняя остаются на местах.\n",
        "\n",
        "<br>\n",
        "\n",
        "**Примеры:**\n",
        "* `23456 -> 25436`\n",
        "* `30789 -> 38709`"
      ]
    },
    {
      "cell_type": "code",
      "execution_count": 5,
      "id": "5a4d665d",
      "metadata": {
        "colab": {
          "base_uri": "https://localhost:8080/"
        },
        "id": "5a4d665d",
        "outputId": "02deb7d2-2238-4b10-8532-4b5c8314526d"
      },
      "outputs": [
        {
          "output_type": "stream",
          "name": "stdout",
          "text": [
            "Please enter the 5 digits integer number: 78954\n",
            "75984\n"
          ]
        }
      ],
      "source": [
        "def rework_value(value: int | str) -> int:\n",
        "    \"\"\"\n",
        "    Mirrors the three central digits of a five-digit number, keeping the first and last digits unchanged.\n",
        "\n",
        "    The function takes a five-digit integer (or string representation of such an integer), reverses the three middle digits, and returns the resulting integer.\n",
        "    If the input is not a five-digit number, a ValueError is raised.\n",
        "\n",
        "    Args:\n",
        "        value (int or str): A five-digit integer or its string representation.\n",
        "\n",
        "    Returns:\n",
        "        int: The input integer but its three central digits mirrored.\n",
        "\n",
        "    Raises:\n",
        "        ValueError: If the input is not a number or does not contain exactly five digits.\n",
        "    \"\"\"\n",
        "    # Check for input value is a number\n",
        "    try:\n",
        "        value_number = int(value)\n",
        "    except ValueError:\n",
        "        raise ValueError(\"The input value is not a integer number\")\n",
        "\n",
        "    # Check for leading zeros\n",
        "    value_string = str(value_number)\n",
        "    if len(value_string) == 5:\n",
        "        return int(f\"{value_string[0]}{value_string[3:0:-1]}{value_string[-1]}\")\n",
        "    else:\n",
        "        raise ValueError(\"The number does not contains 5 digits\")\n",
        "\n",
        "if __name__ == \"__main__\":\n",
        "\n",
        "    # Test cases\n",
        "    assert rework_value(23456) == 25436\n",
        "    assert rework_value(30789) == 38709\n",
        "    assert rework_value(78951) == 75981\n",
        "\n",
        "    input_value =  input(\"Please enter the 5 digits integer number: \")\n",
        "    print(rework_value(input_value))"
      ]
    },
    {
      "cell_type": "markdown",
      "id": "00b9578b",
      "metadata": {
        "id": "00b9578b"
      },
      "source": [
        "## Задание 2: Подсчет выходных до отпуска\n",
        "\n",
        "Пользователь вводит сколько дней осталось до ближайшего отпуска. Программа должна вывести количество выходных дней до отпуска, если учесть, что выходные это суббота и воскресенье, сегодня понедельник и праздники мы не учитываем.  \n",
        "\n",
        "<br>\n",
        "\n",
        "**Примеры:**\n",
        "* `4  -> 0`\n",
        "* `6  -> 1`\n",
        "* `14 -> 4`"
      ]
    },
    {
      "cell_type": "code",
      "execution_count": null,
      "id": "07154103",
      "metadata": {
        "colab": {
          "base_uri": "https://localhost:8080/"
        },
        "id": "07154103",
        "outputId": "0d746f81-61dd-41f8-f18f-0940704b700d"
      },
      "outputs": [
        {
          "output_type": "stream",
          "name": "stdout",
          "text": [
            "0\n",
            "1\n",
            "4\n",
            "2\n",
            "2\n"
          ]
        }
      ],
      "source": [
        "def get_weekend_days(total_days: int) -> int:\n",
        "    \"\"\"\n",
        "        Returns the total number of weekend days of dividing the total number of days till vacation by 7 using divmod.\n",
        "\n",
        "        Args:\n",
        "            total_days (int): The total number of days till vacation\n",
        "\n",
        "        Returns:\n",
        "            total_weekend_days: (int) where quotient is value // 7 and remainder is value % 7\n",
        "    \"\"\"\n",
        "    # Get number of integer weeks and remained days in total number of the days till vacation\n",
        "    quotient, remainder = divmod(total_days, 7)\n",
        "\n",
        "    total_weekend_days = quotient * 2\n",
        "\n",
        "    # In case 6 days remained, then add just one weekend day: Saturday\n",
        "    if remainder == 6:\n",
        "        total_weekend_days += 1\n",
        "\n",
        "    return total_weekend_days\n",
        "\n",
        "\n",
        "if __name__ == \"__main__\":\n",
        "    # Test cases\n",
        "    assert get_weekend_days(4) == 0\n",
        "    assert get_weekend_days(6) == 1\n",
        "    assert get_weekend_days(14) == 4\n",
        "    assert get_weekend_days(7) == 2\n",
        "    assert get_weekend_days(9) == 2\n",
        "\n",
        "    # Check for input value is a number\n",
        "    try:\n",
        "        input_value = int(input(\"Please enter the number of days till vacation: \"))\n",
        "    except ValueError:\n",
        "        raise ValueError(\"The input value is not a integer number\")\n",
        "\n",
        "\n",
        "    print(get_weekend_days(input_value))"
      ]
    },
    {
      "cell_type": "markdown",
      "id": "cdde282c",
      "metadata": {
        "id": "cdde282c"
      },
      "source": [
        "## Задание 3: Плитка шоколада\n",
        "\n",
        "Пользователь вводит длину и ширину плитки шоколада, а также размер куска, который хочет отломить. Программа должна вычислить - можно ли совершить подобный разлом или нет, если учесть, что ломать можно только по прямой.\n",
        "\n",
        "<br>\n",
        "\n",
        "**Примеры:**\n",
        "* `3, 4, 6  -> True`\n",
        "* `5, 7, 8  -> False`\n",
        "* `4, 5, 12 -> True`"
      ]
    },
    {
      "cell_type": "code",
      "execution_count": 2,
      "id": "70f3324c",
      "metadata": {
        "id": "70f3324c",
        "colab": {
          "base_uri": "https://localhost:8080/"
        },
        "outputId": "2b3d009b-d4bb-4c0c-fc3f-eac97869c89b"
      },
      "outputs": [
        {
          "output_type": "stream",
          "name": "stdout",
          "text": [
            "Enter three numbers 3 5 11\n",
            "It's not possible to break off the 11 piece from 3 X 5 chocolate bar\n"
          ]
        }
      ],
      "source": [
        "def check_posibility_to_break(x, y, z):\n",
        "    \"\"\"\n",
        "    To make a break of chocolate bar in way we need the following conditions should be satisfied:\n",
        "    - The size of the piece must be a multiple of one of the bar sides\n",
        "    - Another bar side should be greater or equal than the result of division: piece size / first bar's side\n",
        "    Args:\n",
        "        x (int): length of chocolate bar\n",
        "        y (int): width of chocolate bar\n",
        "        z (int): piece to break off\n",
        "\n",
        "    Return:\n",
        "        (bool):  possibility to break chocolate bar in a way we need\n",
        "    \"\"\"\n",
        "    if (z % x == 0) and (z // x <= y):\n",
        "        return True\n",
        "\n",
        "    elif (z % y == 0) and (z // y <= x):\n",
        "        return True\n",
        "\n",
        "    return False\n",
        "\n",
        "if __name__ == '__main__':\n",
        "    # Test cases\n",
        "    assert check_posibility_to_break(3, 4, 6) == True\n",
        "    assert check_posibility_to_break(5, 7, 8) == False\n",
        "    assert check_posibility_to_break(4, 5, 12) == True\n",
        "\n",
        "    try:\n",
        "        x, y, z = map(int, input(\"Enter three numbers \").split())\n",
        "        if check_posibility_to_break(x, y, z):\n",
        "            print(f\"It's possible to break off the {z} piece from {x} X {y} chocolate bar\")\n",
        "        else:\n",
        "            print(f\"It's not possible to break off the {z} piece from {x} X {y} chocolate bar\")\n",
        "    except ValueError:\n",
        "        print(\"The input values are not integer numbers\")\n"
      ]
    },
    {
      "cell_type": "markdown",
      "id": "6470efc1",
      "metadata": {
        "id": "6470efc1"
      },
      "source": [
        "## Задание 4: Римские числа\n",
        "\n",
        "Пользователь вводит целое положительное число, программа должна вернуть строку в виде римского числа.\n",
        "\n",
        "<br>\n",
        "\n",
        "**Примеры:**\n",
        "* `3   -> III`\n",
        "* `15  -> XV`\n",
        "* `234 -> CCXXXIV`"
      ]
    },
    {
      "cell_type": "code",
      "execution_count": null,
      "id": "8686127c",
      "metadata": {
        "id": "8686127c"
      },
      "outputs": [],
      "source": [
        "\"\"\"\n",
        "Пользователь вводит целое положительное число, программа должна вернуть строку в виде римского числа.\n",
        "\n",
        "\n",
        "Примеры:\n",
        "\n",
        "3   -> III\n",
        "15  -> XV\n",
        "234 -> CCXXXIV\n",
        "\n",
        "\"\"\"\n",
        "import queue\n",
        "\n",
        "def convert_arabic_to_roman_numeral(value):\n",
        "    units_symbols = {0: '', 1: 'I', 2: 'II', 3: 'III', 4: 'IV', 5: 'V', 6: 'VI', 7: 'VII', 8: 'VIII', 9: 'IX'}\n",
        "    tens_symbols = {0: '', 1: 'X', 2: 'XX', 3: 'XXX', 4: 'XL', 5: 'L', 6: 'LX', 7: 'LXX', 8: 'LXXX', 9: 'XC'}\n",
        "    hundreds_symbols = {0: '', 1: 'C', 2: 'CC', 3: 'CCC', 4: 'CD', 5: 'D', 6: 'DC', 7: 'DCC', 8: 'DCCC', 9: 'CM'}\n",
        "    thousands_symbols = {0: '', 1: 'M', 2: 'MM', 3: 'MMM', 4: 'MV̄', 5: 'V̄', 6: 'V̄M', 7: 'V̄MM', 8: 'V̄MMM', 9: 'MX̄'}\n",
        "\n",
        "    # Create empty list for future Roman numbers\n",
        "    roman_numeral_queue = queue.Queue()\n",
        "\n",
        "    for position, symbol in enumerate(str(value)[::-1]):\n",
        "        match position:\n",
        "            case 0:\n",
        "                roman_numeral_queue.put(units_symbols[int(symbol)])\n",
        "            case 1:\n",
        "                roman_numeral_queue.put(tens_symbols[int(symbol)])\n",
        "            case 2:\n",
        "                roman_numeral_queue.put(hundreds_symbols[int(symbol)])\n",
        "            case 3:\n",
        "                roman_numeral_queue.put(thousands_symbols[int(symbol)])\n",
        "            case _:\n",
        "                raise ValueError('The input value > 9999')\n",
        "\n",
        "    return ''.join(list(roman_numeral_queue.queue)[::-1])\n",
        "\n",
        "if __name__ == '__main__':\n",
        "    assert convert_arabic_to_roman_numeral(3) == 'III'\n",
        "    assert convert_arabic_to_roman_numeral(15) == 'XV'\n",
        "    assert convert_arabic_to_roman_numeral(234) == 'CCXXXIV'\n",
        "    assert convert_arabic_to_roman_numeral(9583) == 'MX̄DLXXXIII'\n",
        "\n",
        "    # Check for input value is a number\n",
        "    try:\n",
        "        input_value = int(input(\"Please enter a positive integer number: \"))\n",
        "        print(f\"Roman format is: {convert_arabic_to_roman_numeral(input_value)}\")\n",
        "    except ValueError:\n",
        "        raise ValueError(\"The input value is not an integer number from range [0; 9999]\")"
      ]
    },
    {
      "cell_type": "markdown",
      "id": "ca6a4c0a",
      "metadata": {
        "id": "ca6a4c0a"
      },
      "source": [
        "## Задание 5: Проверка на вещественное число\n",
        "\n",
        "Пользователь вводит данные, проверить - являются ли они положительным вещественным числом. Не использовать встроенные функции для проверки, только методы данных и конструкцию IF. (Дополнительное задание, по желанию - проверка на отрицательные вещественные числа)\n",
        "\n",
        "<br>\n",
        "\n",
        "**Примеры:**\n",
        "* `5.6  -> True`\n",
        "* `.78  -> True`\n",
        "* `.67. -> False`\n",
        "* `5    -> True`"
      ]
    },
    {
      "cell_type": "code",
      "execution_count": null,
      "id": "74e39179",
      "metadata": {
        "id": "74e39179"
      },
      "outputs": [],
      "source": [
        "real_signs = ('0', '1', '2', '3', '4', '5', '6', '7', '8', '9', '.')\n",
        "\n",
        "def is_real(input_value: str) -> bool:\n",
        "    for sign in input_value:\n",
        "        if sign not in real_signs:\n",
        "            return False\n",
        "    if input_value.count('.') > 1:\n",
        "        return False\n",
        "    else:\n",
        "        return True\n",
        "\n",
        "assert is_real('5.6')\n",
        "assert is_real('.78')\n",
        "assert not is_real('.67.')\n",
        "assert is_real('5')\n",
        "assert not is_real('0,67')"
      ]
    }
  ],
  "metadata": {
    "kernelspec": {
      "display_name": ".venv (3.11.12)",
      "language": "python",
      "name": "python3"
    },
    "language_info": {
      "name": "python",
      "version": "3.11.12"
    },
    "colab": {
      "provenance": []
    }
  },
  "nbformat": 4,
  "nbformat_minor": 5
}