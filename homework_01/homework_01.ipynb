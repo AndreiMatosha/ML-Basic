{
  "cells": [
    {
      "cell_type": "markdown",
      "id": "8955a739",
      "metadata": {
        "id": "8955a739"
      },
      "source": [
        "# Домашнее задание: Базовые типы данных\n",
        "\n"
      ]
    },
    {
      "cell_type": "markdown",
      "id": "d4e67b86",
      "metadata": {
        "id": "d4e67b86"
      },
      "source": [
        "## Задание 1: Зеркальное отражение цифр\n",
        "\n",
        "Пользователь вводит пятизначное число. Программа должна зеркально отразить три центральные цифры. Первая и последняя остаются на местах.\n",
        "\n",
        "<br>\n",
        "\n",
        "**Примеры:**\n",
        "* `23456 -> 25436`\n",
        "* `30789 -> 38709`"
      ]
    },
    {
      "cell_type": "code",
      "execution_count": null,
      "id": "5a4d665d",
      "metadata": {
        "id": "5a4d665d"
      },
      "outputs": [],
      "source": []
    },
    {
      "cell_type": "markdown",
      "id": "00b9578b",
      "metadata": {
        "id": "00b9578b"
      },
      "source": [
        "## Задание 2: Подсчет выходных до отпуска\n",
        "\n",
        "Пользователь вводит сколько дней осталось до ближайшего отпуска. Программа должна вывести количество выходных дней до отпуска, если учесть, что выходные это суббота и воскресенье, сегодня понедельник и праздники мы не учитываем.  \n",
        "\n",
        "<br>\n",
        "\n",
        "**Примеры:**\n",
        "* `4  -> 0`\n",
        "* `6  -> 1`\n",
        "* `14 -> 4`"
      ]
    },
    {
      "cell_type": "code",
      "execution_count": 2,
      "id": "07154103",
      "metadata": {
        "colab": {
          "base_uri": "https://localhost:8080/"
        },
        "id": "07154103",
        "outputId": "0d746f81-61dd-41f8-f18f-0940704b700d"
      },
      "outputs": [
        {
          "output_type": "stream",
          "name": "stdout",
          "text": [
            "0\n",
            "1\n",
            "4\n",
            "2\n",
            "2\n"
          ]
        }
      ],
      "source": [
        "def get_working_days(total_days: int) -> int:\n",
        "    \"\"\"\n",
        "        Returns the integer division and remainder of dividing the total number of days till vacation by 7 using divmod.\n",
        "\n",
        "        Args:\n",
        "            total_days (int): The total number of days till vacation\n",
        "\n",
        "        Returns:\n",
        "            total_weekend_days: (int) where quotient is value // 7 and remainder is value % 7\n",
        "    \"\"\"\n",
        "    # Get number of integer weeks and remained days in total number of the days till vacation\n",
        "    quotient, remainder = divmod(total_days, 7)\n",
        "\n",
        "    total_weekend_days = quotient * 2\n",
        "\n",
        "    # In case 6 days remained, then add just one weelend day: Saturday\n",
        "    if remainder == 6:\n",
        "        total_weekend_days += 1\n",
        "\n",
        "    return total_weekend_days\n",
        "\n",
        "# Test cases\n",
        "print(get_working_days(4))\n",
        "print(get_working_days(6))\n",
        "print(get_working_days(14))\n",
        "print(get_working_days(7))\n",
        "print(get_working_days(9))"
      ]
    },
    {
      "cell_type": "markdown",
      "id": "cdde282c",
      "metadata": {
        "id": "cdde282c"
      },
      "source": [
        "## Задание 3: Плитка шоколада\n",
        "\n",
        "Пользователь вводит длину и ширину плитки шоколада, а также размер куска, который хочет отломить. Программа должна вычислить - можно ли совершить подобный разлом или нет, если учесть, что ломать можно только по прямой.\n",
        "\n",
        "<br>\n",
        "\n",
        "**Примеры:**\n",
        "* `3, 4, 6  -> True`\n",
        "* `5, 7, 8  -> False`\n",
        "* `4, 5, 12 -> True`"
      ]
    },
    {
      "cell_type": "code",
      "execution_count": null,
      "id": "70f3324c",
      "metadata": {
        "id": "70f3324c"
      },
      "outputs": [],
      "source": [
        "# ВАШ КОД ЗДЕСЬ"
      ]
    },
    {
      "cell_type": "markdown",
      "id": "6470efc1",
      "metadata": {
        "id": "6470efc1"
      },
      "source": [
        "## Задание 4: Римские числа\n",
        "\n",
        "Пользователь вводит целое положительное число, программа должна вернуть строку в виде римского числа.\n",
        "\n",
        "<br>\n",
        "\n",
        "**Примеры:**\n",
        "* `3   -> III`\n",
        "* `15  -> XV`\n",
        "* `234 -> CCXXXIV`"
      ]
    },
    {
      "cell_type": "code",
      "execution_count": null,
      "id": "8686127c",
      "metadata": {
        "id": "8686127c"
      },
      "outputs": [],
      "source": [
        "# ВАШ КОД ЗДЕСЬ"
      ]
    },
    {
      "cell_type": "markdown",
      "id": "ca6a4c0a",
      "metadata": {
        "id": "ca6a4c0a"
      },
      "source": [
        "## Задание 5: Проверка на вещественное число\n",
        "\n",
        "Пользователь вводит данные, проверить - являются ли они положительным вещественным числом. Не использовать встроенные функции для проверки, только методы данных и конструкцию IF. (Дополнительное задание, по желанию - проверка на отрицательные вещественные числа)\n",
        "\n",
        "<br>\n",
        "\n",
        "**Примеры:**\n",
        "* `5.6  -> True`\n",
        "* `.78  -> True`\n",
        "* `.67. -> False`\n",
        "* `5    -> True`"
      ]
    },
    {
      "cell_type": "code",
      "execution_count": null,
      "id": "74e39179",
      "metadata": {
        "id": "74e39179"
      },
      "outputs": [],
      "source": [
        "# ВАШ КОД ЗДЕСЬ"
      ]
    }
  ],
  "metadata": {
    "kernelspec": {
      "display_name": ".venv (3.11.12)",
      "language": "python",
      "name": "python3"
    },
    "language_info": {
      "name": "python",
      "version": "3.11.12"
    },
    "colab": {
      "provenance": []
    }
  },
  "nbformat": 4,
  "nbformat_minor": 5
}