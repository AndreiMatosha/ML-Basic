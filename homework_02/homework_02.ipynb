{
  "cells": [
    {
      "cell_type": "markdown",
      "id": "a2c501e6",
      "metadata": {
        "id": "a2c501e6"
      },
      "source": [
        "# Домашнее задание: Управляющие конструкции"
      ]
    },
    {
      "cell_type": "markdown",
      "id": "3e4cac4a",
      "metadata": {
        "id": "3e4cac4a"
      },
      "source": [
        "## Задание 1: Получение однозначного числа\n",
        "\n",
        "Пользователь вводит целое число, программа складывает все цифры числа, с полученным числом — то же самое, и так до тех пор, пока не получится однозначное число.\n",
        "\n",
        "<br>\n",
        "\n",
        "**Примеры:**\n",
        "* `545   -> 5`\n",
        "* `12345 -> 6`"
      ]
    },
    {
      "cell_type": "code",
      "execution_count": null,
      "id": "344e919f",
      "metadata": {
        "id": "344e919f",
        "outputId": "e9335407-b575-4101-a197-4f4d3f9e1b51",
        "colab": {
          "base_uri": "https://localhost:8080/"
        }
      },
      "outputs": [
        {
          "output_type": "stream",
          "name": "stdout",
          "text": [
            "Please enter an integer value: 45245\n",
            "Sum of all digits is:  2\n"
          ]
        }
      ],
      "source": [
        "def sum_value_digits(value: int) -> int:\n",
        "    \"\"\"\n",
        "    Пользователь вводит целое число, программа складывает все цифры числа, с полученным числом — то же самое,\n",
        "    и так до тех пор, пока не получится однозначное число.\n",
        "\n",
        "    Примеры:\n",
        "\n",
        "    545   -> 5\n",
        "    12345 -> 6\n",
        "\n",
        "    :param value: user's input integer value\n",
        "    :return: sum of digits of input value till one digit value\n",
        "    \"\"\"\n",
        "    while abs(value) // 10 != 0:\n",
        "        value = sum([int(x) for x in list(str(abs(value)))])\n",
        "\n",
        "    return value\n",
        "\n",
        "\n",
        "if __name__ == '__main__':\n",
        "\n",
        "    assert sum_value_digits(545) == 5\n",
        "    assert sum_value_digits(12345) == 6\n",
        "    assert sum_value_digits(-12345) == 6\n",
        "    assert sum_value_digits(5) == 5\n",
        "    assert sum_value_digits(0) == 0\n",
        "\n",
        "    try:\n",
        "        user_value = int(input(\"Please enter an integer value: \"))\n",
        "        print(\"Sum of all digits is: \", sum_value_digits(user_value))\n",
        "    except ValueError:\n",
        "        print(\"Error: The value in not integer\")"
      ]
    },
    {
      "cell_type": "markdown",
      "id": "45527a4a",
      "metadata": {
        "id": "45527a4a"
      },
      "source": [
        "## Задание 2: Кинотеатр\n",
        "\n",
        "Дан список списков, каждый вложенный список состоит из 1 и 0, количество вложенных списков — количество рядов. Пользователь вводит, сколько билетов ему требуется. Программа должна найти ряд, где можно приобрести нужное количество билетов (места должны быть рядом). Если таких рядов несколько, то ближайший к экрану (ближайшим считается нулевой ряд). Если таких мест нет, то вывести False.\n",
        "\n",
        "<br>\n",
        "\n",
        "**Примеры:**\n",
        "* `[[0,1,1,0], [1,0,0,0], [0,1,0,0]], 2 -> 1`\n",
        "* `[[0,1,1,0], [1,0,1,0], [1,1,0,1]], 2 -> False`"
      ]
    },
    {
      "cell_type": "code",
      "execution_count": null,
      "id": "3a29082d",
      "metadata": {
        "id": "3a29082d"
      },
      "outputs": [],
      "source": [
        "\"\"\"\n",
        "Дан список списков, каждый вложенный список состоит из 1 и 0, количество вложенных списков — количество рядов.\n",
        "Пользователь вводит, сколько билетов ему требуется. Программа должна найти ряд,\n",
        "где можно приобрести нужное количество билетов (места должны быть рядом).\n",
        "Если таких рядов несколько, то ближайший к экрану (ближайшим считается нулевой ряд).\n",
        "Если таких мест нет, то вывести False.\n",
        "\n",
        "\n",
        "Примеры:\n",
        "\n",
        "[[0,1,1,0], [1,0,0,0], [0,1,0,0]], 2 -> 1\n",
        "[[0,1,1,0], [1,0,1,0], [1,1,0,1]], 2 -> False\n",
        "\"\"\"\n",
        "\n",
        "import numpy as np\n",
        "from numpy.typing import NDArray\n",
        "\n",
        "\n",
        "def generate_cinema_hall(rows: int = 3, cols: int = 4) -> NDArray[np.int8]:\n",
        "    \"\"\"\n",
        "    Functions generates 2D array randomly filled by 1s and 0s\n",
        "\n",
        "    :param rows: Number of rows in cinema hall\n",
        "    :param cols: Number of seats in each row (columns)\n",
        "    :return: numpy 2D array randomly filled by 1s (occupied) and 0s (free)\n",
        "    \"\"\"\n",
        "    return np.random.choice([0, 1], size=(rows, cols))\n",
        "\n",
        "\n",
        "def search_seats(cinema_hall: NDArray[np.int8], tickets_required: int) -> int | bool:\n",
        "    \"\"\"\n",
        "    Function searches for consequent free seats in cinema hall, returns row index in case found or False overwise\n",
        "\n",
        "    :param cinema_hall: 2D array with seat information, 1-occupied or 0-free\n",
        "    :param tickets_required: The number of required tickets\n",
        "    :return: row index if seats found or False if seats not found\n",
        "    \"\"\"\n",
        "\n",
        "    # Initial values\n",
        "    empty_row_idx = False\n",
        "    seats_found = False\n",
        "\n",
        "    # Iterating over the rows of cinema hall in a loop\n",
        "    for row_idx, row in enumerate(cinema_hall):\n",
        "        # Iterating over the seats of cinema hall in a cinema row\n",
        "        for seat_idx, seat in enumerate(row):\n",
        "            # if empty seat is found, check what\n",
        "            if (seat == 0) and (seat_idx + tickets_required - 1 < len(row)) and (\n",
        "                    not np.any(row[seat_idx: seat_idx + tickets_required])):\n",
        "                empty_row_idx = row_idx\n",
        "                # seats are found, no more actions are required\n",
        "                seats_found = True\n",
        "                break\n",
        "        if seats_found:\n",
        "            break\n",
        "\n",
        "    return empty_row_idx\n",
        "\n",
        "\n",
        "if __name__ == '__main__':\n",
        "\n",
        "    # The existing cinema hall\n",
        "    cinema_hall_seats = [[0, 1, 1, 0], [1, 0, 0, 0], [0, 1, 0, 0]]\n",
        "\n",
        "    # Randomly generated cinema hall\n",
        "    #cinema_hall_seats = generate_cinema_hall(rows=3, cols=4)\n",
        "\n",
        "    # Test cases\n",
        "    assert search_seats(np.array([[0,1,1,0], [1,0,0,0], [0,1,0,0]]), 2) == 1\n",
        "    assert search_seats(np.array([[0,1,1,0], [1,0,1,0], [1,1,0,1]]), 2) == False\n",
        "    assert search_seats(np.array([[0, 1, 0, 0], [1, 0, 0, 1], [0, 1, 1, 1]]), 2) == 0\n",
        "    assert search_seats(np.array([[0, 1, 0, 0], [1, 0, 0, 1], [0, 1, 1, 1]]), 3) == False\n",
        "    assert search_seats(np.array([[0, 1, 0, 0, 0], [1, 0, 1, 0, 1], [1, 0, 0, 0, 1]]), 3) == 0\n",
        "\n",
        "    try:\n",
        "        # User is required to introduce the number\n",
        "        user_required_tickets = int(input(\"Please provide the required number of tickets: \"))\n",
        "        if user_required_tickets <= 0:\n",
        "            raise ValueError\n",
        "\n",
        "        print(\"Current cinema hall:\\n\", cinema_hall_seats)\n",
        "        print(\"Number of tickets: \", user_required_tickets)\n",
        "        print(search_seats(np.array(cinema_hall_seats), user_required_tickets))\n",
        "    except ValueError:\n",
        "        print(\"Input error: The number of tickets should be positive integer number\")"
      ]
    },
    {
      "cell_type": "markdown",
      "id": "7b7f098c",
      "metadata": {
        "id": "7b7f098c"
      },
      "source": [
        "## Задание 3: Алгоритм RLE\n",
        "\n",
        "Необходимо написать упрощенную версию алгоритма RLE.\n",
        "Алгоритм RLE объединяет подряд идущие символы в коэффициент и символ.\n",
        "\n",
        "<br>\n",
        "\n",
        "**Примеры:**\n",
        "* `asssdddsssddd -> 1a3s3d3s3d`\n",
        "* `aaabbbbccccc  -> 3a4b5c`\n",
        "* `abcba         -> 1a1b1c1b1a`"
      ]
    },
    {
      "cell_type": "code",
      "execution_count": 1,
      "id": "e0d30ec2",
      "metadata": {
        "id": "e0d30ec2",
        "outputId": "3437443e-ade0-4400-a572-ed9d66f8ea7e",
        "colab": {
          "base_uri": "https://localhost:8080/"
        }
      },
      "outputs": [
        {
          "output_type": "stream",
          "name": "stdout",
          "text": [
            "Please enter a string for RLE algorithm: wwettttyuiww\n",
            "2w1e4t1y1u1i2w\n"
          ]
        }
      ],
      "source": [
        "\"\"\"\n",
        "Необходимо написать упрощенную версию алгоритма RLE.\n",
        "Алгоритм RLE объединяет подряд идущие символы в коэффициент и символ.\n",
        "\n",
        "Примеры:\n",
        "\n",
        "asssdddsssddd -> 1a3s3d3s3d\n",
        "aaabbbbccccc  -> 3a4b5c\n",
        "abcba         -> 1a1b1c1b1a\n",
        "\"\"\"\n",
        "\n",
        "def rle_transformation(input_string: str) -> str:\n",
        "    \"\"\"\n",
        "    Accumulate consequent symbols to NumberSymbol format\n",
        "\n",
        "    :param input_string: string to transform\n",
        "    :return: result of transformation\n",
        "    \"\"\"\n",
        "    result = list()\n",
        "    # Symbol index starting from 0\n",
        "    symbol_idx = 0\n",
        "\n",
        "    # Iterating over symbols of input string\n",
        "    while symbol_idx < len(input_string):\n",
        "        shift = 0\n",
        "        # Finding the maximum number of consequent similar symbols\n",
        "        while (symbol_idx + shift < len(input_string)) and (\n",
        "                input_string[symbol_idx] == input_string[symbol_idx + shift]):\n",
        "            shift += 1\n",
        "        # Append the NumberSymbol result of iteration\n",
        "        result.append(f\"{str(shift)}{input_string[symbol_idx]}\")\n",
        "\n",
        "        symbol_idx += shift\n",
        "\n",
        "    return ''.join(result)\n",
        "\n",
        "\n",
        "if __name__ == '__main__':\n",
        "    # Test cases\n",
        "    assert rle_transformation(\"asssdddsssddd\") == \"1a3s3d3s3d\"\n",
        "    assert rle_transformation(\"aaabbbbccccc\") == \"3a4b5c\"\n",
        "    assert rle_transformation(\"abcba\") == \"1a1b1c1b1a\"\n",
        "    assert rle_transformation(\"fg ff yyy$$@\") == \"1f1g1 2f1 3y2$1@\"\n",
        "    assert rle_transformation(\"a22b44c\") == \"1a221b241c\"\n",
        "\n",
        "    user_string = input(\"Please enter a string for RLE algorithm: \")\n",
        "    if not user_string:\n",
        "        print(\"The string is empty\")\n",
        "    else:\n",
        "        print(rle_transformation(user_string))\n"
      ]
    },
    {
      "cell_type": "markdown",
      "id": "f24d5e58",
      "metadata": {
        "id": "f24d5e58"
      },
      "source": [
        "## Задание 4: Шифр Цезаря\n",
        "\n",
        "Реализуйте программу для шифрования текста с помощью шифра Цезаря.  \n",
        "Шифр Цезаря — это метод шифрования, при котором каждая буква в тексте заменяется буквой, стоящей на фиксированное число позиций дальше в алфавите.\n",
        "\n",
        "### Требования\n",
        "1. Программа должна принимать на вход:\n",
        "   - Строку текста для шифрования\n",
        "   - Ключ шифра (число от 0 до 25)\n",
        "\n",
        "2. Правила шифрования:\n",
        "   - Шифруются только латинские буквы (a-z, A-Z)\n",
        "   - Сохраняется регистр букв (заглавные остаются заглавными)\n",
        "   - Пробелы, цифры и знаки препинания остаются без изменений\n",
        "   - Сдвиг циклический (после 'z' идет 'a', после 'Z' идет 'A')\n",
        "\n",
        "### Примеры\n",
        "\n",
        "* `\"Hello World\", 3      -> \"Khoor Zruog\"`\n",
        "* `\"Python is great!\", 5 -> \"Udymts nx lwjfy!\"`\n",
        "* `\"XYZ abc\", 3          -> \"ABC def\"`\n",
        "* `\"Test 123\", 1         -> \"Uftu 123\"`\n",
        "\n",
        "### Алгоритм\n",
        "* Для каждого символа в строке:\n",
        "   - Если это латинская буква, найти её позицию в алфавите\n",
        "   - Добавить к позиции значение ключа\n",
        "   - Если результат больше 25, использовать остаток от деления на 26\n",
        "   - Преобразовать обратно в букву, сохранив регистр\n",
        "   - Если это не буква, оставить символ без изменений\n"
      ]
    },
    {
      "cell_type": "code",
      "execution_count": null,
      "id": "6a075d20",
      "metadata": {
        "id": "6a075d20"
      },
      "outputs": [],
      "source": [
        "# ВАШ КОД ЗДЕСЬ"
      ]
    },
    {
      "cell_type": "markdown",
      "id": "c88bf52c",
      "metadata": {
        "id": "c88bf52c"
      },
      "source": [
        "## Задание 5: Табель успеваемости\n",
        "\n",
        "Пользователь в бесконечном цикле (пока не будет введена пустая строка) вводит строки вида: 'название предмета' 'фамилия ученика' 'оценка'. После окончания ввода программа выводит в консоль название предмета, далее список учеников и все их оценки в виде таблицы.\n",
        "\n",
        "<br>\n",
        "\n",
        "**Примеры:**\n",
        "\n",
        "<br>\n",
        "\n",
        "*Ввод:*\n",
        "```python\n",
        "Математика Иванов  5\n",
        "Математика Иванов  4\n",
        "Литература Иванов  3\n",
        "Математика Петров  5\n",
        "Литература Сидоров 3\n",
        "Литература Петров  5\n",
        "Литература Иванов  4\n",
        "Математика Сидоров 3\n",
        "Математика Петров  5\n",
        "```\n",
        "\n",
        "<br>\n",
        "\n",
        "*Результат:*\n",
        "```python\n",
        "Математика # вводим название предмета\n",
        "\n",
        "# выводим список учеников и их оценки\n",
        "Иванов  5 4\n",
        "Петров  5 5\n",
        "Сидоров 3\n",
        "```\n",
        "\n",
        "```python\n",
        "Литература # вводим название предмета\n",
        "\n",
        "# выводим список учеников и их оценки\n",
        "Иванов  3 4\n",
        "Сидоров 3\n",
        "Петров  5\n",
        "```"
      ]
    },
    {
      "cell_type": "code",
      "execution_count": null,
      "id": "196f6ff4",
      "metadata": {
        "id": "196f6ff4"
      },
      "outputs": [],
      "source": [
        "# ВАШ КОД ЗДЕСЬ"
      ]
    }
  ],
  "metadata": {
    "kernelspec": {
      "display_name": ".venv (3.11.12)",
      "language": "python",
      "name": "python3"
    },
    "language_info": {
      "codemirror_mode": {
        "name": "ipython",
        "version": 3
      },
      "file_extension": ".py",
      "mimetype": "text/x-python",
      "name": "python",
      "nbconvert_exporter": "python",
      "pygments_lexer": "ipython3",
      "version": "3.11.12"
    },
    "colab": {
      "provenance": []
    }
  },
  "nbformat": 4,
  "nbformat_minor": 5
}